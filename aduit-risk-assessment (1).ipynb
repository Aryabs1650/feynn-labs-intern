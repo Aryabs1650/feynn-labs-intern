{
 "cells": [
  {
   "cell_type": "code",
   "execution_count": 1,
   "id": "7005c95f",
   "metadata": {
    "_cell_guid": "b1076dfc-b9ad-4769-8c92-a6c4dae69d19",
    "_uuid": "8f2839f25d086af736a60e9eeb907d3b93b6e0e5",
    "execution": {
     "iopub.execute_input": "2022-10-11T07:58:26.570880Z",
     "iopub.status.busy": "2022-10-11T07:58:26.569802Z",
     "iopub.status.idle": "2022-10-11T07:58:26.587180Z",
     "shell.execute_reply": "2022-10-11T07:58:26.585931Z"
    },
    "papermill": {
     "duration": 0.029801,
     "end_time": "2022-10-11T07:58:26.589181",
     "exception": false,
     "start_time": "2022-10-11T07:58:26.559380",
     "status": "completed"
    },
    "tags": []
   },
   "outputs": [
    {
     "name": "stdout",
     "output_type": "stream",
     "text": [
      "/kaggle/input/audit-data/trial.csv\n",
      "/kaggle/input/audit-data/audit_data.csv\n"
     ]
    }
   ],
   "source": [
    "# This Python 3 environment comes with many helpful analytics libraries installed\n",
    "# It is defined by the kaggle/python Docker image: https://github.com/kaggle/docker-python\n",
    "# For example, here's several helpful packages to load\n",
    "\n",
    "import numpy as np # linear algebra\n",
    "import pandas as pd # data processing, CSV file I/O (e.g. pd.read_csv)\n",
    "\n",
    "# Input data files are available in the read-only \"../input/\" directory\n",
    "# For example, running this (by clicking run or pressing Shift+Enter) will list all files under the input directory\n",
    "\n",
    "import os\n",
    "for dirname, _, filenames in os.walk('/kaggle/input'):\n",
    "    for filename in filenames:\n",
    "        print(os.path.join(dirname, filename))\n",
    "\n",
    "# You can write up to 20GB to the current directory (/kaggle/working/) that gets preserved as output when you create a version using \"Save & Run All\" \n",
    "# You can also write temporary files to /kaggle/temp/, but they won't be saved outside of the current session"
   ]
  },
  {
   "cell_type": "code",
   "execution_count": 2,
   "id": "a9f9eae3",
   "metadata": {
    "execution": {
     "iopub.execute_input": "2022-10-11T07:58:26.607302Z",
     "iopub.status.busy": "2022-10-11T07:58:26.606285Z",
     "iopub.status.idle": "2022-10-11T07:58:27.637228Z",
     "shell.execute_reply": "2022-10-11T07:58:27.636412Z"
    },
    "papermill": {
     "duration": 1.041807,
     "end_time": "2022-10-11T07:58:27.639297",
     "exception": false,
     "start_time": "2022-10-11T07:58:26.597490",
     "status": "completed"
    },
    "tags": []
   },
   "outputs": [],
   "source": [
    "#importing libraries in python\n",
    "import numpy as np\n",
    "import pandas as pd\n",
    "import matplotlib.pyplot as plt\n",
    "import seaborn as sns\n",
    "import itertools\n",
    "from sklearn import preprocessing\n",
    "from sklearn import model_selection\n",
    "from sklearn.model_selection import train_test_split\n",
    "from sklearn.linear_model import LogisticRegression\n",
    "from sklearn.preprocessing import LabelEncoder\n",
    "from sklearn.metrics import accuracy_score\n",
    "from sklearn.metrics import classification_report, confusion_matrix\n",
    "from sklearn.model_selection import cross_val_score\n",
    "from sklearn.metrics import  f1_score, precision_score,recall_score, roc_auc_score\n",
    "from sklearn.ensemble import RandomForestClassifier,AdaBoostClassifier\n",
    "from sklearn.svm import SVC "
   ]
  },
  {
   "cell_type": "markdown",
   "id": "b47818c6",
   "metadata": {
    "papermill": {
     "duration": 0.007741,
     "end_time": "2022-10-11T07:58:27.655213",
     "exception": false,
     "start_time": "2022-10-11T07:58:27.647472",
     "status": "completed"
    },
    "tags": []
   },
   "source": [
    "Data collection and Processing"
   ]
  },
  {
   "cell_type": "code",
   "execution_count": 3,
   "id": "acc54900",
   "metadata": {
    "execution": {
     "iopub.execute_input": "2022-10-11T07:58:27.673295Z",
     "iopub.status.busy": "2022-10-11T07:58:27.672991Z",
     "iopub.status.idle": "2022-10-11T07:58:27.717745Z",
     "shell.execute_reply": "2022-10-11T07:58:27.717132Z"
    },
    "papermill": {
     "duration": 0.055438,
     "end_time": "2022-10-11T07:58:27.719430",
     "exception": false,
     "start_time": "2022-10-11T07:58:27.663992",
     "status": "completed"
    },
    "tags": []
   },
   "outputs": [
    {
     "data": {
      "text/html": [
       "<div>\n",
       "<style scoped>\n",
       "    .dataframe tbody tr th:only-of-type {\n",
       "        vertical-align: middle;\n",
       "    }\n",
       "\n",
       "    .dataframe tbody tr th {\n",
       "        vertical-align: top;\n",
       "    }\n",
       "\n",
       "    .dataframe thead th {\n",
       "        text-align: right;\n",
       "    }\n",
       "</style>\n",
       "<table border=\"1\" class=\"dataframe\">\n",
       "  <thead>\n",
       "    <tr style=\"text-align: right;\">\n",
       "      <th></th>\n",
       "      <th>Sector_score</th>\n",
       "      <th>LOCATION_ID</th>\n",
       "      <th>PARA_A</th>\n",
       "      <th>Score_A</th>\n",
       "      <th>Risk_A</th>\n",
       "      <th>PARA_B</th>\n",
       "      <th>Score_B</th>\n",
       "      <th>Risk_B</th>\n",
       "      <th>TOTAL</th>\n",
       "      <th>numbers</th>\n",
       "      <th>...</th>\n",
       "      <th>RiSk_E</th>\n",
       "      <th>History</th>\n",
       "      <th>Prob</th>\n",
       "      <th>Risk_F</th>\n",
       "      <th>Score</th>\n",
       "      <th>Inherent_Risk</th>\n",
       "      <th>CONTROL_RISK</th>\n",
       "      <th>Detection_Risk</th>\n",
       "      <th>Audit_Risk</th>\n",
       "      <th>Risk</th>\n",
       "    </tr>\n",
       "  </thead>\n",
       "  <tbody>\n",
       "    <tr>\n",
       "      <th>0</th>\n",
       "      <td>3.89</td>\n",
       "      <td>23</td>\n",
       "      <td>4.18</td>\n",
       "      <td>0.6</td>\n",
       "      <td>2.508</td>\n",
       "      <td>2.50</td>\n",
       "      <td>0.2</td>\n",
       "      <td>0.500</td>\n",
       "      <td>6.68</td>\n",
       "      <td>5.0</td>\n",
       "      <td>...</td>\n",
       "      <td>0.4</td>\n",
       "      <td>0</td>\n",
       "      <td>0.2</td>\n",
       "      <td>0.0</td>\n",
       "      <td>2.4</td>\n",
       "      <td>8.574</td>\n",
       "      <td>0.4</td>\n",
       "      <td>0.5</td>\n",
       "      <td>1.7148</td>\n",
       "      <td>1</td>\n",
       "    </tr>\n",
       "    <tr>\n",
       "      <th>1</th>\n",
       "      <td>3.89</td>\n",
       "      <td>6</td>\n",
       "      <td>0.00</td>\n",
       "      <td>0.2</td>\n",
       "      <td>0.000</td>\n",
       "      <td>4.83</td>\n",
       "      <td>0.2</td>\n",
       "      <td>0.966</td>\n",
       "      <td>4.83</td>\n",
       "      <td>5.0</td>\n",
       "      <td>...</td>\n",
       "      <td>0.4</td>\n",
       "      <td>0</td>\n",
       "      <td>0.2</td>\n",
       "      <td>0.0</td>\n",
       "      <td>2.0</td>\n",
       "      <td>2.554</td>\n",
       "      <td>0.4</td>\n",
       "      <td>0.5</td>\n",
       "      <td>0.5108</td>\n",
       "      <td>0</td>\n",
       "    </tr>\n",
       "    <tr>\n",
       "      <th>2</th>\n",
       "      <td>3.89</td>\n",
       "      <td>6</td>\n",
       "      <td>0.51</td>\n",
       "      <td>0.2</td>\n",
       "      <td>0.102</td>\n",
       "      <td>0.23</td>\n",
       "      <td>0.2</td>\n",
       "      <td>0.046</td>\n",
       "      <td>0.74</td>\n",
       "      <td>5.0</td>\n",
       "      <td>...</td>\n",
       "      <td>0.4</td>\n",
       "      <td>0</td>\n",
       "      <td>0.2</td>\n",
       "      <td>0.0</td>\n",
       "      <td>2.0</td>\n",
       "      <td>1.548</td>\n",
       "      <td>0.4</td>\n",
       "      <td>0.5</td>\n",
       "      <td>0.3096</td>\n",
       "      <td>0</td>\n",
       "    </tr>\n",
       "    <tr>\n",
       "      <th>3</th>\n",
       "      <td>3.89</td>\n",
       "      <td>6</td>\n",
       "      <td>0.00</td>\n",
       "      <td>0.2</td>\n",
       "      <td>0.000</td>\n",
       "      <td>10.80</td>\n",
       "      <td>0.6</td>\n",
       "      <td>6.480</td>\n",
       "      <td>10.80</td>\n",
       "      <td>6.0</td>\n",
       "      <td>...</td>\n",
       "      <td>0.4</td>\n",
       "      <td>0</td>\n",
       "      <td>0.2</td>\n",
       "      <td>0.0</td>\n",
       "      <td>4.4</td>\n",
       "      <td>17.530</td>\n",
       "      <td>0.4</td>\n",
       "      <td>0.5</td>\n",
       "      <td>3.5060</td>\n",
       "      <td>1</td>\n",
       "    </tr>\n",
       "    <tr>\n",
       "      <th>4</th>\n",
       "      <td>3.89</td>\n",
       "      <td>6</td>\n",
       "      <td>0.00</td>\n",
       "      <td>0.2</td>\n",
       "      <td>0.000</td>\n",
       "      <td>0.08</td>\n",
       "      <td>0.2</td>\n",
       "      <td>0.016</td>\n",
       "      <td>0.08</td>\n",
       "      <td>5.0</td>\n",
       "      <td>...</td>\n",
       "      <td>0.4</td>\n",
       "      <td>0</td>\n",
       "      <td>0.2</td>\n",
       "      <td>0.0</td>\n",
       "      <td>2.0</td>\n",
       "      <td>1.416</td>\n",
       "      <td>0.4</td>\n",
       "      <td>0.5</td>\n",
       "      <td>0.2832</td>\n",
       "      <td>0</td>\n",
       "    </tr>\n",
       "  </tbody>\n",
       "</table>\n",
       "<p>5 rows × 27 columns</p>\n",
       "</div>"
      ],
      "text/plain": [
       "   Sector_score LOCATION_ID  PARA_A  Score_A  Risk_A  PARA_B  Score_B  Risk_B  \\\n",
       "0          3.89          23    4.18      0.6   2.508    2.50      0.2   0.500   \n",
       "1          3.89           6    0.00      0.2   0.000    4.83      0.2   0.966   \n",
       "2          3.89           6    0.51      0.2   0.102    0.23      0.2   0.046   \n",
       "3          3.89           6    0.00      0.2   0.000   10.80      0.6   6.480   \n",
       "4          3.89           6    0.00      0.2   0.000    0.08      0.2   0.016   \n",
       "\n",
       "   TOTAL  numbers  ...  RiSk_E  History  Prob  Risk_F  Score  Inherent_Risk  \\\n",
       "0   6.68      5.0  ...     0.4        0   0.2     0.0    2.4          8.574   \n",
       "1   4.83      5.0  ...     0.4        0   0.2     0.0    2.0          2.554   \n",
       "2   0.74      5.0  ...     0.4        0   0.2     0.0    2.0          1.548   \n",
       "3  10.80      6.0  ...     0.4        0   0.2     0.0    4.4         17.530   \n",
       "4   0.08      5.0  ...     0.4        0   0.2     0.0    2.0          1.416   \n",
       "\n",
       "   CONTROL_RISK  Detection_Risk  Audit_Risk  Risk  \n",
       "0           0.4             0.5      1.7148     1  \n",
       "1           0.4             0.5      0.5108     0  \n",
       "2           0.4             0.5      0.3096     0  \n",
       "3           0.4             0.5      3.5060     1  \n",
       "4           0.4             0.5      0.2832     0  \n",
       "\n",
       "[5 rows x 27 columns]"
      ]
     },
     "execution_count": 3,
     "metadata": {},
     "output_type": "execute_result"
    }
   ],
   "source": [
    "# Loading the dataset\n",
    "df= pd.read_csv(r'/kaggle/input/audit-data/audit_data.csv')\n",
    "\n",
    "#printing first 5 rows of the data\n",
    "df.head()\n"
   ]
  },
  {
   "cell_type": "code",
   "execution_count": 4,
   "id": "27813396",
   "metadata": {
    "execution": {
     "iopub.execute_input": "2022-10-11T07:58:27.737429Z",
     "iopub.status.busy": "2022-10-11T07:58:27.736883Z",
     "iopub.status.idle": "2022-10-11T07:58:27.755407Z",
     "shell.execute_reply": "2022-10-11T07:58:27.754407Z"
    },
    "papermill": {
     "duration": 0.029785,
     "end_time": "2022-10-11T07:58:27.757606",
     "exception": false,
     "start_time": "2022-10-11T07:58:27.727821",
     "status": "completed"
    },
    "tags": []
   },
   "outputs": [
    {
     "name": "stdout",
     "output_type": "stream",
     "text": [
      "<class 'pandas.core.frame.DataFrame'>\n",
      "RangeIndex: 776 entries, 0 to 775\n",
      "Data columns (total 27 columns):\n",
      " #   Column          Non-Null Count  Dtype  \n",
      "---  ------          --------------  -----  \n",
      " 0   Sector_score    776 non-null    float64\n",
      " 1   LOCATION_ID     776 non-null    object \n",
      " 2   PARA_A          776 non-null    float64\n",
      " 3   Score_A         776 non-null    float64\n",
      " 4   Risk_A          776 non-null    float64\n",
      " 5   PARA_B          776 non-null    float64\n",
      " 6   Score_B         776 non-null    float64\n",
      " 7   Risk_B          776 non-null    float64\n",
      " 8   TOTAL           776 non-null    float64\n",
      " 9   numbers         776 non-null    float64\n",
      " 10  Score_B.1       776 non-null    float64\n",
      " 11  Risk_C          776 non-null    float64\n",
      " 12  Money_Value     775 non-null    float64\n",
      " 13  Score_MV        776 non-null    float64\n",
      " 14  Risk_D          776 non-null    float64\n",
      " 15  District_Loss   776 non-null    int64  \n",
      " 16  PROB            776 non-null    float64\n",
      " 17  RiSk_E          776 non-null    float64\n",
      " 18  History         776 non-null    int64  \n",
      " 19  Prob            776 non-null    float64\n",
      " 20  Risk_F          776 non-null    float64\n",
      " 21  Score           776 non-null    float64\n",
      " 22  Inherent_Risk   776 non-null    float64\n",
      " 23  CONTROL_RISK    776 non-null    float64\n",
      " 24  Detection_Risk  776 non-null    float64\n",
      " 25  Audit_Risk      776 non-null    float64\n",
      " 26  Risk            776 non-null    int64  \n",
      "dtypes: float64(23), int64(3), object(1)\n",
      "memory usage: 163.8+ KB\n"
     ]
    }
   ],
   "source": [
    "# Getting the informations about the data\n",
    "df.info()"
   ]
  },
  {
   "cell_type": "code",
   "execution_count": 5,
   "id": "1259e6a0",
   "metadata": {
    "execution": {
     "iopub.execute_input": "2022-10-11T07:58:27.776203Z",
     "iopub.status.busy": "2022-10-11T07:58:27.775568Z",
     "iopub.status.idle": "2022-10-11T07:58:27.780732Z",
     "shell.execute_reply": "2022-10-11T07:58:27.780012Z"
    },
    "papermill": {
     "duration": 0.015845,
     "end_time": "2022-10-11T07:58:27.782226",
     "exception": false,
     "start_time": "2022-10-11T07:58:27.766381",
     "status": "completed"
    },
    "tags": []
   },
   "outputs": [
    {
     "data": {
      "text/plain": [
       "(776, 27)"
      ]
     },
     "execution_count": 5,
     "metadata": {},
     "output_type": "execute_result"
    }
   ],
   "source": [
    "# check the number of rows and columns\n",
    "df.shape"
   ]
  },
  {
   "cell_type": "code",
   "execution_count": 6,
   "id": "5d3a10b5",
   "metadata": {
    "execution": {
     "iopub.execute_input": "2022-10-11T07:58:27.800223Z",
     "iopub.status.busy": "2022-10-11T07:58:27.799785Z",
     "iopub.status.idle": "2022-10-11T07:58:27.822495Z",
     "shell.execute_reply": "2022-10-11T07:58:27.821600Z"
    },
    "papermill": {
     "duration": 0.033837,
     "end_time": "2022-10-11T07:58:27.824318",
     "exception": false,
     "start_time": "2022-10-11T07:58:27.790481",
     "status": "completed"
    },
    "tags": []
   },
   "outputs": [
    {
     "data": {
      "text/html": [
       "<div>\n",
       "<style scoped>\n",
       "    .dataframe tbody tr th:only-of-type {\n",
       "        vertical-align: middle;\n",
       "    }\n",
       "\n",
       "    .dataframe tbody tr th {\n",
       "        vertical-align: top;\n",
       "    }\n",
       "\n",
       "    .dataframe thead th {\n",
       "        text-align: right;\n",
       "    }\n",
       "</style>\n",
       "<table border=\"1\" class=\"dataframe\">\n",
       "  <thead>\n",
       "    <tr style=\"text-align: right;\">\n",
       "      <th></th>\n",
       "      <th>Sector_score</th>\n",
       "      <th>LOCATION_ID</th>\n",
       "      <th>PARA_A</th>\n",
       "      <th>Score_A</th>\n",
       "      <th>Risk_A</th>\n",
       "      <th>PARA_B</th>\n",
       "      <th>Score_B</th>\n",
       "      <th>Risk_B</th>\n",
       "      <th>TOTAL</th>\n",
       "      <th>numbers</th>\n",
       "      <th>...</th>\n",
       "      <th>RiSk_E</th>\n",
       "      <th>History</th>\n",
       "      <th>Prob</th>\n",
       "      <th>Risk_F</th>\n",
       "      <th>Score</th>\n",
       "      <th>Inherent_Risk</th>\n",
       "      <th>CONTROL_RISK</th>\n",
       "      <th>Detection_Risk</th>\n",
       "      <th>Audit_Risk</th>\n",
       "      <th>Risk</th>\n",
       "    </tr>\n",
       "  </thead>\n",
       "  <tbody>\n",
       "    <tr>\n",
       "      <th>771</th>\n",
       "      <td>55.57</td>\n",
       "      <td>9</td>\n",
       "      <td>0.49</td>\n",
       "      <td>0.2</td>\n",
       "      <td>0.098</td>\n",
       "      <td>0.40</td>\n",
       "      <td>0.2</td>\n",
       "      <td>0.080</td>\n",
       "      <td>0.89</td>\n",
       "      <td>5.0</td>\n",
       "      <td>...</td>\n",
       "      <td>0.4</td>\n",
       "      <td>0</td>\n",
       "      <td>0.2</td>\n",
       "      <td>0.0</td>\n",
       "      <td>2.0</td>\n",
       "      <td>1.578</td>\n",
       "      <td>0.4</td>\n",
       "      <td>0.5</td>\n",
       "      <td>0.3156</td>\n",
       "      <td>0</td>\n",
       "    </tr>\n",
       "    <tr>\n",
       "      <th>772</th>\n",
       "      <td>55.57</td>\n",
       "      <td>16</td>\n",
       "      <td>0.47</td>\n",
       "      <td>0.2</td>\n",
       "      <td>0.094</td>\n",
       "      <td>0.37</td>\n",
       "      <td>0.2</td>\n",
       "      <td>0.074</td>\n",
       "      <td>0.84</td>\n",
       "      <td>5.0</td>\n",
       "      <td>...</td>\n",
       "      <td>0.4</td>\n",
       "      <td>0</td>\n",
       "      <td>0.2</td>\n",
       "      <td>0.0</td>\n",
       "      <td>2.0</td>\n",
       "      <td>1.568</td>\n",
       "      <td>0.4</td>\n",
       "      <td>0.5</td>\n",
       "      <td>0.3136</td>\n",
       "      <td>0</td>\n",
       "    </tr>\n",
       "    <tr>\n",
       "      <th>773</th>\n",
       "      <td>55.57</td>\n",
       "      <td>14</td>\n",
       "      <td>0.24</td>\n",
       "      <td>0.2</td>\n",
       "      <td>0.048</td>\n",
       "      <td>0.04</td>\n",
       "      <td>0.2</td>\n",
       "      <td>0.008</td>\n",
       "      <td>0.28</td>\n",
       "      <td>5.0</td>\n",
       "      <td>...</td>\n",
       "      <td>0.4</td>\n",
       "      <td>0</td>\n",
       "      <td>0.2</td>\n",
       "      <td>0.0</td>\n",
       "      <td>2.0</td>\n",
       "      <td>1.456</td>\n",
       "      <td>0.4</td>\n",
       "      <td>0.5</td>\n",
       "      <td>0.2912</td>\n",
       "      <td>0</td>\n",
       "    </tr>\n",
       "    <tr>\n",
       "      <th>774</th>\n",
       "      <td>55.57</td>\n",
       "      <td>18</td>\n",
       "      <td>0.20</td>\n",
       "      <td>0.2</td>\n",
       "      <td>0.040</td>\n",
       "      <td>0.00</td>\n",
       "      <td>0.2</td>\n",
       "      <td>0.000</td>\n",
       "      <td>0.20</td>\n",
       "      <td>5.0</td>\n",
       "      <td>...</td>\n",
       "      <td>0.4</td>\n",
       "      <td>0</td>\n",
       "      <td>0.2</td>\n",
       "      <td>0.0</td>\n",
       "      <td>2.0</td>\n",
       "      <td>1.440</td>\n",
       "      <td>0.4</td>\n",
       "      <td>0.5</td>\n",
       "      <td>0.2880</td>\n",
       "      <td>0</td>\n",
       "    </tr>\n",
       "    <tr>\n",
       "      <th>775</th>\n",
       "      <td>55.57</td>\n",
       "      <td>15</td>\n",
       "      <td>0.00</td>\n",
       "      <td>0.2</td>\n",
       "      <td>0.000</td>\n",
       "      <td>0.00</td>\n",
       "      <td>0.2</td>\n",
       "      <td>0.000</td>\n",
       "      <td>0.00</td>\n",
       "      <td>5.0</td>\n",
       "      <td>...</td>\n",
       "      <td>0.4</td>\n",
       "      <td>0</td>\n",
       "      <td>0.2</td>\n",
       "      <td>0.0</td>\n",
       "      <td>2.0</td>\n",
       "      <td>1.464</td>\n",
       "      <td>0.4</td>\n",
       "      <td>0.5</td>\n",
       "      <td>0.2928</td>\n",
       "      <td>0</td>\n",
       "    </tr>\n",
       "  </tbody>\n",
       "</table>\n",
       "<p>5 rows × 27 columns</p>\n",
       "</div>"
      ],
      "text/plain": [
       "     Sector_score LOCATION_ID  PARA_A  Score_A  Risk_A  PARA_B  Score_B  \\\n",
       "771         55.57           9    0.49      0.2   0.098    0.40      0.2   \n",
       "772         55.57          16    0.47      0.2   0.094    0.37      0.2   \n",
       "773         55.57          14    0.24      0.2   0.048    0.04      0.2   \n",
       "774         55.57          18    0.20      0.2   0.040    0.00      0.2   \n",
       "775         55.57          15    0.00      0.2   0.000    0.00      0.2   \n",
       "\n",
       "     Risk_B  TOTAL  numbers  ...  RiSk_E  History  Prob  Risk_F  Score  \\\n",
       "771   0.080   0.89      5.0  ...     0.4        0   0.2     0.0    2.0   \n",
       "772   0.074   0.84      5.0  ...     0.4        0   0.2     0.0    2.0   \n",
       "773   0.008   0.28      5.0  ...     0.4        0   0.2     0.0    2.0   \n",
       "774   0.000   0.20      5.0  ...     0.4        0   0.2     0.0    2.0   \n",
       "775   0.000   0.00      5.0  ...     0.4        0   0.2     0.0    2.0   \n",
       "\n",
       "     Inherent_Risk  CONTROL_RISK  Detection_Risk  Audit_Risk  Risk  \n",
       "771          1.578           0.4             0.5      0.3156     0  \n",
       "772          1.568           0.4             0.5      0.3136     0  \n",
       "773          1.456           0.4             0.5      0.2912     0  \n",
       "774          1.440           0.4             0.5      0.2880     0  \n",
       "775          1.464           0.4             0.5      0.2928     0  \n",
       "\n",
       "[5 rows x 27 columns]"
      ]
     },
     "execution_count": 6,
     "metadata": {},
     "output_type": "execute_result"
    }
   ],
   "source": [
    "#printing last 5 rows of the data\n",
    "df.tail()"
   ]
  },
  {
   "cell_type": "code",
   "execution_count": 7,
   "id": "31f27ef5",
   "metadata": {
    "execution": {
     "iopub.execute_input": "2022-10-11T07:58:27.843311Z",
     "iopub.status.busy": "2022-10-11T07:58:27.842801Z",
     "iopub.status.idle": "2022-10-11T07:58:27.850155Z",
     "shell.execute_reply": "2022-10-11T07:58:27.849545Z"
    },
    "papermill": {
     "duration": 0.018705,
     "end_time": "2022-10-11T07:58:27.851836",
     "exception": false,
     "start_time": "2022-10-11T07:58:27.833131",
     "status": "completed"
    },
    "tags": []
   },
   "outputs": [
    {
     "data": {
      "text/plain": [
       "Sector_score      0\n",
       "LOCATION_ID       0\n",
       "PARA_A            0\n",
       "Score_A           0\n",
       "Risk_A            0\n",
       "PARA_B            0\n",
       "Score_B           0\n",
       "Risk_B            0\n",
       "TOTAL             0\n",
       "numbers           0\n",
       "Score_B.1         0\n",
       "Risk_C            0\n",
       "Money_Value       1\n",
       "Score_MV          0\n",
       "Risk_D            0\n",
       "District_Loss     0\n",
       "PROB              0\n",
       "RiSk_E            0\n",
       "History           0\n",
       "Prob              0\n",
       "Risk_F            0\n",
       "Score             0\n",
       "Inherent_Risk     0\n",
       "CONTROL_RISK      0\n",
       "Detection_Risk    0\n",
       "Audit_Risk        0\n",
       "Risk              0\n",
       "dtype: int64"
      ]
     },
     "execution_count": 7,
     "metadata": {},
     "output_type": "execute_result"
    }
   ],
   "source": [
    "# to check the number of missing values in each columns\n",
    "df.isnull().sum()"
   ]
  },
  {
   "cell_type": "markdown",
   "id": "f1a74023",
   "metadata": {
    "papermill": {
     "duration": 0.00862,
     "end_time": "2022-10-11T07:58:27.869360",
     "exception": false,
     "start_time": "2022-10-11T07:58:27.860740",
     "status": "completed"
    },
    "tags": []
   },
   "source": [
    "The Money_Value has one null value so I am imputing it with the mean value of this feature"
   ]
  },
  {
   "cell_type": "code",
   "execution_count": 8,
   "id": "1fd40d42",
   "metadata": {
    "execution": {
     "iopub.execute_input": "2022-10-11T07:58:27.888898Z",
     "iopub.status.busy": "2022-10-11T07:58:27.888307Z",
     "iopub.status.idle": "2022-10-11T07:58:27.892970Z",
     "shell.execute_reply": "2022-10-11T07:58:27.892354Z"
    },
    "papermill": {
     "duration": 0.016471,
     "end_time": "2022-10-11T07:58:27.894595",
     "exception": false,
     "start_time": "2022-10-11T07:58:27.878124",
     "status": "completed"
    },
    "tags": []
   },
   "outputs": [],
   "source": [
    " #replacing the missing values in Money_Value column with mean value\n",
    "df['Money_Value'].fillna((df['Money_Value'].mean()), inplace=True)"
   ]
  },
  {
   "cell_type": "code",
   "execution_count": 9,
   "id": "b6fa88eb",
   "metadata": {
    "execution": {
     "iopub.execute_input": "2022-10-11T07:58:27.913902Z",
     "iopub.status.busy": "2022-10-11T07:58:27.913595Z",
     "iopub.status.idle": "2022-10-11T07:58:27.921195Z",
     "shell.execute_reply": "2022-10-11T07:58:27.920575Z"
    },
    "papermill": {
     "duration": 0.019413,
     "end_time": "2022-10-11T07:58:27.922931",
     "exception": false,
     "start_time": "2022-10-11T07:58:27.903518",
     "status": "completed"
    },
    "tags": []
   },
   "outputs": [
    {
     "data": {
      "text/plain": [
       "Sector_score      0\n",
       "LOCATION_ID       0\n",
       "PARA_A            0\n",
       "Score_A           0\n",
       "Risk_A            0\n",
       "PARA_B            0\n",
       "Score_B           0\n",
       "Risk_B            0\n",
       "TOTAL             0\n",
       "numbers           0\n",
       "Score_B.1         0\n",
       "Risk_C            0\n",
       "Money_Value       0\n",
       "Score_MV          0\n",
       "Risk_D            0\n",
       "District_Loss     0\n",
       "PROB              0\n",
       "RiSk_E            0\n",
       "History           0\n",
       "Prob              0\n",
       "Risk_F            0\n",
       "Score             0\n",
       "Inherent_Risk     0\n",
       "CONTROL_RISK      0\n",
       "Detection_Risk    0\n",
       "Audit_Risk        0\n",
       "Risk              0\n",
       "dtype: int64"
      ]
     },
     "execution_count": 9,
     "metadata": {},
     "output_type": "execute_result"
    }
   ],
   "source": [
    "df.isnull().sum()"
   ]
  },
  {
   "cell_type": "markdown",
   "id": "e9e64cd5",
   "metadata": {
    "papermill": {
     "duration": 0.008618,
     "end_time": "2022-10-11T07:58:27.940464",
     "exception": false,
     "start_time": "2022-10-11T07:58:27.931846",
     "status": "completed"
    },
    "tags": []
   },
   "source": [
    "**Data Visualization**"
   ]
  },
  {
   "cell_type": "markdown",
   "id": "74470d06",
   "metadata": {
    "papermill": {
     "duration": 0.008724,
     "end_time": "2022-10-11T07:58:27.957984",
     "exception": false,
     "start_time": "2022-10-11T07:58:27.949260",
     "status": "completed"
    },
    "tags": []
   },
   "source": [
    "I am deleting TOTAL and LOCATION_ID as these are not significant for prediction process"
   ]
  },
  {
   "cell_type": "code",
   "execution_count": 10,
   "id": "eb453f63",
   "metadata": {
    "execution": {
     "iopub.execute_input": "2022-10-11T07:58:27.977243Z",
     "iopub.status.busy": "2022-10-11T07:58:27.976671Z",
     "iopub.status.idle": "2022-10-11T07:58:27.981561Z",
     "shell.execute_reply": "2022-10-11T07:58:27.980994Z"
    },
    "papermill": {
     "duration": 0.016464,
     "end_time": "2022-10-11T07:58:27.983247",
     "exception": false,
     "start_time": "2022-10-11T07:58:27.966783",
     "status": "completed"
    },
    "tags": []
   },
   "outputs": [],
   "source": [
    "delete =['LOCATION_ID','TOTAL']\n",
    "\n",
    "df.drop(delete, axis=1, inplace=True)"
   ]
  },
  {
   "cell_type": "code",
   "execution_count": 11,
   "id": "b2f933e0",
   "metadata": {
    "execution": {
     "iopub.execute_input": "2022-10-11T07:58:28.002945Z",
     "iopub.status.busy": "2022-10-11T07:58:28.002202Z",
     "iopub.status.idle": "2022-10-11T07:58:28.025128Z",
     "shell.execute_reply": "2022-10-11T07:58:28.024407Z"
    },
    "papermill": {
     "duration": 0.034513,
     "end_time": "2022-10-11T07:58:28.026757",
     "exception": false,
     "start_time": "2022-10-11T07:58:27.992244",
     "status": "completed"
    },
    "tags": []
   },
   "outputs": [
    {
     "data": {
      "text/html": [
       "<div>\n",
       "<style scoped>\n",
       "    .dataframe tbody tr th:only-of-type {\n",
       "        vertical-align: middle;\n",
       "    }\n",
       "\n",
       "    .dataframe tbody tr th {\n",
       "        vertical-align: top;\n",
       "    }\n",
       "\n",
       "    .dataframe thead th {\n",
       "        text-align: right;\n",
       "    }\n",
       "</style>\n",
       "<table border=\"1\" class=\"dataframe\">\n",
       "  <thead>\n",
       "    <tr style=\"text-align: right;\">\n",
       "      <th></th>\n",
       "      <th>Sector_score</th>\n",
       "      <th>PARA_A</th>\n",
       "      <th>Score_A</th>\n",
       "      <th>Risk_A</th>\n",
       "      <th>PARA_B</th>\n",
       "      <th>Score_B</th>\n",
       "      <th>Risk_B</th>\n",
       "      <th>numbers</th>\n",
       "      <th>Score_B.1</th>\n",
       "      <th>Risk_C</th>\n",
       "      <th>...</th>\n",
       "      <th>RiSk_E</th>\n",
       "      <th>History</th>\n",
       "      <th>Prob</th>\n",
       "      <th>Risk_F</th>\n",
       "      <th>Score</th>\n",
       "      <th>Inherent_Risk</th>\n",
       "      <th>CONTROL_RISK</th>\n",
       "      <th>Detection_Risk</th>\n",
       "      <th>Audit_Risk</th>\n",
       "      <th>Risk</th>\n",
       "    </tr>\n",
       "  </thead>\n",
       "  <tbody>\n",
       "    <tr>\n",
       "      <th>0</th>\n",
       "      <td>3.89</td>\n",
       "      <td>4.18</td>\n",
       "      <td>0.6</td>\n",
       "      <td>2.508</td>\n",
       "      <td>2.50</td>\n",
       "      <td>0.2</td>\n",
       "      <td>0.500</td>\n",
       "      <td>5.0</td>\n",
       "      <td>0.2</td>\n",
       "      <td>1.0</td>\n",
       "      <td>...</td>\n",
       "      <td>0.4</td>\n",
       "      <td>0</td>\n",
       "      <td>0.2</td>\n",
       "      <td>0.0</td>\n",
       "      <td>2.4</td>\n",
       "      <td>8.574</td>\n",
       "      <td>0.4</td>\n",
       "      <td>0.5</td>\n",
       "      <td>1.7148</td>\n",
       "      <td>1</td>\n",
       "    </tr>\n",
       "    <tr>\n",
       "      <th>1</th>\n",
       "      <td>3.89</td>\n",
       "      <td>0.00</td>\n",
       "      <td>0.2</td>\n",
       "      <td>0.000</td>\n",
       "      <td>4.83</td>\n",
       "      <td>0.2</td>\n",
       "      <td>0.966</td>\n",
       "      <td>5.0</td>\n",
       "      <td>0.2</td>\n",
       "      <td>1.0</td>\n",
       "      <td>...</td>\n",
       "      <td>0.4</td>\n",
       "      <td>0</td>\n",
       "      <td>0.2</td>\n",
       "      <td>0.0</td>\n",
       "      <td>2.0</td>\n",
       "      <td>2.554</td>\n",
       "      <td>0.4</td>\n",
       "      <td>0.5</td>\n",
       "      <td>0.5108</td>\n",
       "      <td>0</td>\n",
       "    </tr>\n",
       "    <tr>\n",
       "      <th>2</th>\n",
       "      <td>3.89</td>\n",
       "      <td>0.51</td>\n",
       "      <td>0.2</td>\n",
       "      <td>0.102</td>\n",
       "      <td>0.23</td>\n",
       "      <td>0.2</td>\n",
       "      <td>0.046</td>\n",
       "      <td>5.0</td>\n",
       "      <td>0.2</td>\n",
       "      <td>1.0</td>\n",
       "      <td>...</td>\n",
       "      <td>0.4</td>\n",
       "      <td>0</td>\n",
       "      <td>0.2</td>\n",
       "      <td>0.0</td>\n",
       "      <td>2.0</td>\n",
       "      <td>1.548</td>\n",
       "      <td>0.4</td>\n",
       "      <td>0.5</td>\n",
       "      <td>0.3096</td>\n",
       "      <td>0</td>\n",
       "    </tr>\n",
       "    <tr>\n",
       "      <th>3</th>\n",
       "      <td>3.89</td>\n",
       "      <td>0.00</td>\n",
       "      <td>0.2</td>\n",
       "      <td>0.000</td>\n",
       "      <td>10.80</td>\n",
       "      <td>0.6</td>\n",
       "      <td>6.480</td>\n",
       "      <td>6.0</td>\n",
       "      <td>0.6</td>\n",
       "      <td>3.6</td>\n",
       "      <td>...</td>\n",
       "      <td>0.4</td>\n",
       "      <td>0</td>\n",
       "      <td>0.2</td>\n",
       "      <td>0.0</td>\n",
       "      <td>4.4</td>\n",
       "      <td>17.530</td>\n",
       "      <td>0.4</td>\n",
       "      <td>0.5</td>\n",
       "      <td>3.5060</td>\n",
       "      <td>1</td>\n",
       "    </tr>\n",
       "    <tr>\n",
       "      <th>4</th>\n",
       "      <td>3.89</td>\n",
       "      <td>0.00</td>\n",
       "      <td>0.2</td>\n",
       "      <td>0.000</td>\n",
       "      <td>0.08</td>\n",
       "      <td>0.2</td>\n",
       "      <td>0.016</td>\n",
       "      <td>5.0</td>\n",
       "      <td>0.2</td>\n",
       "      <td>1.0</td>\n",
       "      <td>...</td>\n",
       "      <td>0.4</td>\n",
       "      <td>0</td>\n",
       "      <td>0.2</td>\n",
       "      <td>0.0</td>\n",
       "      <td>2.0</td>\n",
       "      <td>1.416</td>\n",
       "      <td>0.4</td>\n",
       "      <td>0.5</td>\n",
       "      <td>0.2832</td>\n",
       "      <td>0</td>\n",
       "    </tr>\n",
       "  </tbody>\n",
       "</table>\n",
       "<p>5 rows × 25 columns</p>\n",
       "</div>"
      ],
      "text/plain": [
       "   Sector_score  PARA_A  Score_A  Risk_A  PARA_B  Score_B  Risk_B  numbers  \\\n",
       "0          3.89    4.18      0.6   2.508    2.50      0.2   0.500      5.0   \n",
       "1          3.89    0.00      0.2   0.000    4.83      0.2   0.966      5.0   \n",
       "2          3.89    0.51      0.2   0.102    0.23      0.2   0.046      5.0   \n",
       "3          3.89    0.00      0.2   0.000   10.80      0.6   6.480      6.0   \n",
       "4          3.89    0.00      0.2   0.000    0.08      0.2   0.016      5.0   \n",
       "\n",
       "   Score_B.1  Risk_C  ...  RiSk_E  History  Prob  Risk_F  Score  \\\n",
       "0        0.2     1.0  ...     0.4        0   0.2     0.0    2.4   \n",
       "1        0.2     1.0  ...     0.4        0   0.2     0.0    2.0   \n",
       "2        0.2     1.0  ...     0.4        0   0.2     0.0    2.0   \n",
       "3        0.6     3.6  ...     0.4        0   0.2     0.0    4.4   \n",
       "4        0.2     1.0  ...     0.4        0   0.2     0.0    2.0   \n",
       "\n",
       "   Inherent_Risk  CONTROL_RISK  Detection_Risk  Audit_Risk  Risk  \n",
       "0          8.574           0.4             0.5      1.7148     1  \n",
       "1          2.554           0.4             0.5      0.5108     0  \n",
       "2          1.548           0.4             0.5      0.3096     0  \n",
       "3         17.530           0.4             0.5      3.5060     1  \n",
       "4          1.416           0.4             0.5      0.2832     0  \n",
       "\n",
       "[5 rows x 25 columns]"
      ]
     },
     "execution_count": 11,
     "metadata": {},
     "output_type": "execute_result"
    }
   ],
   "source": [
    "df.head()"
   ]
  },
  {
   "cell_type": "markdown",
   "id": "8807d57f",
   "metadata": {
    "papermill": {
     "duration": 0.009195,
     "end_time": "2022-10-11T07:58:28.045400",
     "exception": false,
     "start_time": "2022-10-11T07:58:28.036205",
     "status": "completed"
    },
    "tags": []
   },
   "source": [
    "**Seperating Features and Target**"
   ]
  },
  {
   "cell_type": "code",
   "execution_count": 12,
   "id": "2b151222",
   "metadata": {
    "execution": {
     "iopub.execute_input": "2022-10-11T07:58:28.065827Z",
     "iopub.status.busy": "2022-10-11T07:58:28.065043Z",
     "iopub.status.idle": "2022-10-11T07:58:28.185475Z",
     "shell.execute_reply": "2022-10-11T07:58:28.184512Z"
    },
    "papermill": {
     "duration": 0.133226,
     "end_time": "2022-10-11T07:58:28.188062",
     "exception": false,
     "start_time": "2022-10-11T07:58:28.054836",
     "status": "completed"
    },
    "tags": []
   },
   "outputs": [
    {
     "name": "stderr",
     "output_type": "stream",
     "text": [
      "/opt/conda/lib/python3.7/site-packages/seaborn/_decorators.py:43: FutureWarning: Pass the following variable as a keyword arg: x. From version 0.12, the only valid positional argument will be `data`, and passing other arguments without an explicit keyword will result in an error or misinterpretation.\n",
      "  FutureWarning\n"
     ]
    },
    {
     "data": {
      "text/plain": [
       "<AxesSubplot:xlabel='Risk', ylabel='count'>"
      ]
     },
     "execution_count": 12,
     "metadata": {},
     "output_type": "execute_result"
    },
    {
     "data": {
      "image/png": "[encoded data removed]",
      "text/plain": [
       "<Figure size 432x288 with 1 Axes>"
      ]
     },
     "metadata": {
      "needs_background": "light"
     },
     "output_type": "display_data"
    }
   ],
   "source": [
    "sns.countplot(df['Risk'], label = \"Count\")"
   ]
  },
  {
   "cell_type": "markdown",
   "id": "d4a0c0c9",
   "metadata": {
    "papermill": {
     "duration": 0.009935,
     "end_time": "2022-10-11T07:58:28.208328",
     "exception": false,
     "start_time": "2022-10-11T07:58:28.198393",
     "status": "completed"
    },
    "tags": []
   },
   "source": []
  },
  {
   "cell_type": "code",
   "execution_count": 13,
   "id": "90684273",
   "metadata": {
    "execution": {
     "iopub.execute_input": "2022-10-11T07:58:28.230227Z",
     "iopub.status.busy": "2022-10-11T07:58:28.229911Z",
     "iopub.status.idle": "2022-10-11T07:58:28.235206Z",
     "shell.execute_reply": "2022-10-11T07:58:28.234129Z"
    },
    "papermill": {
     "duration": 0.017811,
     "end_time": "2022-10-11T07:58:28.236886",
     "exception": false,
     "start_time": "2022-10-11T07:58:28.219075",
     "status": "completed"
    },
    "tags": []
   },
   "outputs": [],
   "source": [
    "x=df.drop('Risk',axis='columns')\n",
    "y=df['Risk']"
   ]
  },
  {
   "cell_type": "code",
   "execution_count": 14,
   "id": "700fc58d",
   "metadata": {
    "execution": {
     "iopub.execute_input": "2022-10-11T07:58:28.257809Z",
     "iopub.status.busy": "2022-10-11T07:58:28.257223Z",
     "iopub.status.idle": "2022-10-11T07:58:30.527466Z",
     "shell.execute_reply": "2022-10-11T07:58:30.526701Z"
    },
    "papermill": {
     "duration": 2.284203,
     "end_time": "2022-10-11T07:58:30.530699",
     "exception": false,
     "start_time": "2022-10-11T07:58:28.246496",
     "status": "completed"
    },
    "tags": []
   },
   "outputs": [
    {
     "data": {
      "image/png": "[encoded data removed]",
      "text/plain": [
       "<Figure size 1440x1440 with 2 Axes>"
      ]
     },
     "metadata": {
      "needs_background": "light"
     },
     "output_type": "display_data"
    }
   ],
   "source": [
    "#get correlations of each features in dataset\n",
    "corrmat = df.corr()\n",
    "top_corr_features = corrmat.index\n",
    "plt.figure(figsize=(20,20))\n",
    "#plot heat map\n",
    "g=sns.heatmap(df[top_corr_features].corr(),annot=True,cmap=\"RdYlGn\")"
   ]
  },
  {
   "cell_type": "markdown",
   "id": "7a068475",
   "metadata": {
    "papermill": {
     "duration": 0.012029,
     "end_time": "2022-10-11T07:58:30.555588",
     "exception": false,
     "start_time": "2022-10-11T07:58:30.543559",
     "status": "completed"
    },
    "tags": []
   },
   "source": [
    "As we have seen there is no correlation of Detection_Risk so it will be deleted before model building process as it is not contributing well enough for prediction process."
   ]
  },
  {
   "cell_type": "code",
   "execution_count": 15,
   "id": "3340c63e",
   "metadata": {
    "execution": {
     "iopub.execute_input": "2022-10-11T07:58:30.582392Z",
     "iopub.status.busy": "2022-10-11T07:58:30.581817Z",
     "iopub.status.idle": "2022-10-11T07:58:30.586784Z",
     "shell.execute_reply": "2022-10-11T07:58:30.586170Z"
    },
    "papermill": {
     "duration": 0.020405,
     "end_time": "2022-10-11T07:58:30.588467",
     "exception": false,
     "start_time": "2022-10-11T07:58:30.568062",
     "status": "completed"
    },
    "tags": []
   },
   "outputs": [],
   "source": [
    "x=x.drop(['Detection_Risk'],axis=1)\n"
   ]
  },
  {
   "cell_type": "code",
   "execution_count": 16,
   "id": "edcdbded",
   "metadata": {
    "execution": {
     "iopub.execute_input": "2022-10-11T07:58:30.615482Z",
     "iopub.status.busy": "2022-10-11T07:58:30.614989Z",
     "iopub.status.idle": "2022-10-11T07:58:30.620371Z",
     "shell.execute_reply": "2022-10-11T07:58:30.619758Z"
    },
    "papermill": {
     "duration": 0.020698,
     "end_time": "2022-10-11T07:58:30.621947",
     "exception": false,
     "start_time": "2022-10-11T07:58:30.601249",
     "status": "completed"
    },
    "tags": []
   },
   "outputs": [
    {
     "data": {
      "text/plain": [
       "Index(['Sector_score', 'PARA_A', 'Score_A', 'Risk_A', 'PARA_B', 'Score_B',\n",
       "       'Risk_B', 'numbers', 'Score_B.1', 'Risk_C', 'Money_Value', 'Score_MV',\n",
       "       'Risk_D', 'District_Loss', 'PROB', 'RiSk_E', 'History', 'Prob',\n",
       "       'Risk_F', 'Score', 'Inherent_Risk', 'CONTROL_RISK', 'Audit_Risk'],\n",
       "      dtype='object')"
      ]
     },
     "execution_count": 16,
     "metadata": {},
     "output_type": "execute_result"
    }
   ],
   "source": [
    "x.columns"
   ]
  },
  {
   "cell_type": "markdown",
   "id": "4dd6baf4",
   "metadata": {
    "papermill": {
     "duration": 0.011965,
     "end_time": "2022-10-11T07:58:30.646468",
     "exception": false,
     "start_time": "2022-10-11T07:58:30.634503",
     "status": "completed"
    },
    "tags": []
   },
   "source": [
    "### **Splitting the data**"
   ]
  },
  {
   "cell_type": "code",
   "execution_count": 17,
   "id": "7b18b1aa",
   "metadata": {
    "execution": {
     "iopub.execute_input": "2022-10-11T07:58:30.672430Z",
     "iopub.status.busy": "2022-10-11T07:58:30.671942Z",
     "iopub.status.idle": "2022-10-11T07:58:30.678444Z",
     "shell.execute_reply": "2022-10-11T07:58:30.677748Z"
    },
    "papermill": {
     "duration": 0.021491,
     "end_time": "2022-10-11T07:58:30.680100",
     "exception": false,
     "start_time": "2022-10-11T07:58:30.658609",
     "status": "completed"
    },
    "tags": []
   },
   "outputs": [],
   "source": [
    "x_train,x_test, y_train, y_test = train_test_split(x,y , test_size=0.2, stratify=y,random_state=2)"
   ]
  },
  {
   "cell_type": "markdown",
   "id": "e633b573",
   "metadata": {
    "papermill": {
     "duration": 0.012061,
     "end_time": "2022-10-11T07:58:30.705087",
     "exception": false,
     "start_time": "2022-10-11T07:58:30.693026",
     "status": "completed"
    },
    "tags": []
   },
   "source": [
    "## Model Training\n"
   ]
  },
  {
   "cell_type": "markdown",
   "id": "3399299b",
   "metadata": {
    "papermill": {
     "duration": 0.011805,
     "end_time": "2022-10-11T07:58:30.729016",
     "exception": false,
     "start_time": "2022-10-11T07:58:30.717211",
     "status": "completed"
    },
    "tags": []
   },
   "source": [
    "Feature Scaling"
   ]
  },
  {
   "cell_type": "code",
   "execution_count": 18,
   "id": "437e306b",
   "metadata": {
    "execution": {
     "iopub.execute_input": "2022-10-11T07:58:30.754855Z",
     "iopub.status.busy": "2022-10-11T07:58:30.754271Z",
     "iopub.status.idle": "2022-10-11T07:58:30.763269Z",
     "shell.execute_reply": "2022-10-11T07:58:30.762731Z"
    },
    "papermill": {
     "duration": 0.023913,
     "end_time": "2022-10-11T07:58:30.764925",
     "exception": false,
     "start_time": "2022-10-11T07:58:30.741012",
     "status": "completed"
    },
    "tags": []
   },
   "outputs": [],
   "source": [
    "from sklearn.preprocessing import StandardScaler\n",
    "sc_x = StandardScaler()\n",
    "x_train_scaled = pd.DataFrame(sc_x.fit_transform(x_train))\n",
    "x_test_scaled = pd.DataFrame(sc_x.transform(x_test))"
   ]
  },
  {
   "cell_type": "markdown",
   "id": "a4128b14",
   "metadata": {
    "papermill": {
     "duration": 0.011792,
     "end_time": "2022-10-11T07:58:30.788730",
     "exception": false,
     "start_time": "2022-10-11T07:58:30.776938",
     "status": "completed"
    },
    "tags": []
   },
   "source": [
    "### Logistics Regression"
   ]
  },
  {
   "cell_type": "code",
   "execution_count": 19,
   "id": "f4375259",
   "metadata": {
    "execution": {
     "iopub.execute_input": "2022-10-11T07:58:30.814195Z",
     "iopub.status.busy": "2022-10-11T07:58:30.813781Z",
     "iopub.status.idle": "2022-10-11T07:58:30.833735Z",
     "shell.execute_reply": "2022-10-11T07:58:30.833046Z"
    },
    "papermill": {
     "duration": 0.034814,
     "end_time": "2022-10-11T07:58:30.835514",
     "exception": false,
     "start_time": "2022-10-11T07:58:30.800700",
     "status": "completed"
    },
    "tags": []
   },
   "outputs": [
    {
     "data": {
      "text/plain": [
       "LogisticRegression(random_state=0)"
      ]
     },
     "execution_count": 19,
     "metadata": {},
     "output_type": "execute_result"
    }
   ],
   "source": [
    "logi = LogisticRegression(random_state = 0)\n",
    "logi.fit(x_train_scaled, y_train)\n"
   ]
  },
  {
   "cell_type": "markdown",
   "id": "21b4ede7",
   "metadata": {
    "papermill": {
     "duration": 0.0166,
     "end_time": "2022-10-11T07:58:30.869013",
     "exception": false,
     "start_time": "2022-10-11T07:58:30.852413",
     "status": "completed"
    },
    "tags": []
   },
   "source": [
    "### Cross Validation"
   ]
  },
  {
   "cell_type": "code",
   "execution_count": 20,
   "id": "8bf1d01a",
   "metadata": {
    "execution": {
     "iopub.execute_input": "2022-10-11T07:58:30.915354Z",
     "iopub.status.busy": "2022-10-11T07:58:30.914999Z",
     "iopub.status.idle": "2022-10-11T07:58:31.089381Z",
     "shell.execute_reply": "2022-10-11T07:58:31.088610Z"
    },
    "papermill": {
     "duration": 0.202349,
     "end_time": "2022-10-11T07:58:31.091283",
     "exception": false,
     "start_time": "2022-10-11T07:58:30.888934",
     "status": "completed"
    },
    "tags": []
   },
   "outputs": [
    {
     "data": {
      "text/plain": [
       "0.9774193548387098"
      ]
     },
     "execution_count": 20,
     "metadata": {},
     "output_type": "execute_result"
    }
   ],
   "source": [
    "kfold = model_selection.KFold(n_splits=10)\n",
    "scoring = 'accuracy'\n",
    "\n",
    "acc_logi = cross_val_score(estimator = logi, X = x_train_scaled, y = y_train, cv = kfold,scoring=scoring)\n",
    "acc_logi.mean()"
   ]
  },
  {
   "cell_type": "markdown",
   "id": "bec0d058",
   "metadata": {
    "papermill": {
     "duration": 0.016786,
     "end_time": "2022-10-11T07:58:31.125266",
     "exception": false,
     "start_time": "2022-10-11T07:58:31.108480",
     "status": "completed"
    },
    "tags": []
   },
   "source": [
    "## Model Evaluation"
   ]
  },
  {
   "cell_type": "code",
   "execution_count": 21,
   "id": "67f742aa",
   "metadata": {
    "execution": {
     "iopub.execute_input": "2022-10-11T07:58:31.160771Z",
     "iopub.status.busy": "2022-10-11T07:58:31.160410Z",
     "iopub.status.idle": "2022-10-11T07:58:31.183403Z",
     "shell.execute_reply": "2022-10-11T07:58:31.182753Z"
    },
    "papermill": {
     "duration": 0.043215,
     "end_time": "2022-10-11T07:58:31.185445",
     "exception": false,
     "start_time": "2022-10-11T07:58:31.142230",
     "status": "completed"
    },
    "tags": []
   },
   "outputs": [
    {
     "data": {
      "text/html": [
       "<div>\n",
       "<style scoped>\n",
       "    .dataframe tbody tr th:only-of-type {\n",
       "        vertical-align: middle;\n",
       "    }\n",
       "\n",
       "    .dataframe tbody tr th {\n",
       "        vertical-align: top;\n",
       "    }\n",
       "\n",
       "    .dataframe thead th {\n",
       "        text-align: right;\n",
       "    }\n",
       "</style>\n",
       "<table border=\"1\" class=\"dataframe\">\n",
       "  <thead>\n",
       "    <tr style=\"text-align: right;\">\n",
       "      <th></th>\n",
       "      <th>Model</th>\n",
       "      <th>Accuracy</th>\n",
       "      <th>Cross Val Accuracy</th>\n",
       "      <th>Precision</th>\n",
       "      <th>Recall</th>\n",
       "      <th>F1 Score</th>\n",
       "      <th>ROC</th>\n",
       "    </tr>\n",
       "  </thead>\n",
       "  <tbody>\n",
       "    <tr>\n",
       "      <th>0</th>\n",
       "      <td>Logistic Regression</td>\n",
       "      <td>0.99359</td>\n",
       "      <td>0.977419</td>\n",
       "      <td>1.0</td>\n",
       "      <td>0.983607</td>\n",
       "      <td>0.991736</td>\n",
       "      <td>0.991803</td>\n",
       "    </tr>\n",
       "  </tbody>\n",
       "</table>\n",
       "</div>"
      ],
      "text/plain": [
       "                 Model  Accuracy  Cross Val Accuracy  Precision    Recall  \\\n",
       "0  Logistic Regression   0.99359            0.977419        1.0  0.983607   \n",
       "\n",
       "   F1 Score       ROC  \n",
       "0  0.991736  0.991803  "
      ]
     },
     "execution_count": 21,
     "metadata": {},
     "output_type": "execute_result"
    }
   ],
   "source": [
    "y_predict_logi = logi.predict(x_test_scaled)\n",
    "acc= accuracy_score(y_test, y_predict_logi)\n",
    "roc=roc_auc_score(y_test, y_predict_logi)\n",
    "prec = precision_score(y_test, y_predict_logi)\n",
    "rec = recall_score(y_test, y_predict_logi)\n",
    "f1 = f1_score(y_test, y_predict_logi)\n",
    "\n",
    "results = pd.DataFrame([['Logistic Regression',acc, acc_logi.mean(),prec,rec, f1,roc]],\n",
    "               columns = ['Model', 'Accuracy','Cross Val Accuracy', 'Precision', 'Recall', 'F1 Score','ROC'])\n",
    "results"
   ]
  },
  {
   "cell_type": "code",
   "execution_count": 22,
   "id": "27a841d4",
   "metadata": {
    "execution": {
     "iopub.execute_input": "2022-10-11T07:58:31.216603Z",
     "iopub.status.busy": "2022-10-11T07:58:31.216304Z",
     "iopub.status.idle": "2022-10-11T07:58:31.227180Z",
     "shell.execute_reply": "2022-10-11T07:58:31.225765Z"
    },
    "papermill": {
     "duration": 0.026266,
     "end_time": "2022-10-11T07:58:31.229132",
     "exception": false,
     "start_time": "2022-10-11T07:58:31.202866",
     "status": "completed"
    },
    "tags": []
   },
   "outputs": [
    {
     "name": "stdout",
     "output_type": "stream",
     "text": [
      "[[95  0]\n",
      " [ 1 60]]\n",
      "              precision    recall  f1-score   support\n",
      "\n",
      "           0       0.99      1.00      0.99        95\n",
      "           1       1.00      0.98      0.99        61\n",
      "\n",
      "    accuracy                           0.99       156\n",
      "   macro avg       0.99      0.99      0.99       156\n",
      "weighted avg       0.99      0.99      0.99       156\n",
      "\n"
     ]
    }
   ],
   "source": [
    "print(confusion_matrix(y_test, y_predict_logi))\n",
    "print(classification_report(y_test, y_predict_logi))"
   ]
  },
  {
   "cell_type": "code",
   "execution_count": 23,
   "id": "d400ece8",
   "metadata": {
    "execution": {
     "iopub.execute_input": "2022-10-11T07:58:31.256611Z",
     "iopub.status.busy": "2022-10-11T07:58:31.255773Z",
     "iopub.status.idle": "2022-10-11T07:58:31.415050Z",
     "shell.execute_reply": "2022-10-11T07:58:31.414263Z"
    },
    "papermill": {
     "duration": 0.174713,
     "end_time": "2022-10-11T07:58:31.416668",
     "exception": false,
     "start_time": "2022-10-11T07:58:31.241955",
     "status": "completed"
    },
    "tags": []
   },
   "outputs": [
    {
     "data": {
      "image/png": "[encoded data removed]",
      "text/plain": [
       "<Figure size 432x288 with 2 Axes>"
      ]
     },
     "metadata": {
      "needs_background": "light"
     },
     "output_type": "display_data"
    }
   ],
   "source": [
    "cm_logi = confusion_matrix(y_test, y_predict_logi)\n",
    "plt.title('Confusion matrix of the Logistic classifier')\n",
    "sns.heatmap(cm_logi,annot=True,fmt=\"d\")\n",
    "plt.xlabel('predicted value')\n",
    "plt.ylabel('true value')\n",
    "plt.show()"
   ]
  },
  {
   "cell_type": "markdown",
   "id": "3c99f5e8",
   "metadata": {
    "papermill": {
     "duration": 0.014059,
     "end_time": "2022-10-11T07:58:31.443869",
     "exception": false,
     "start_time": "2022-10-11T07:58:31.429810",
     "status": "completed"
    },
    "tags": []
   },
   "source": [
    "## **Applying Random Forest**"
   ]
  },
  {
   "cell_type": "code",
   "execution_count": 24,
   "id": "5c44f15d",
   "metadata": {
    "execution": {
     "iopub.execute_input": "2022-10-11T07:58:31.471265Z",
     "iopub.status.busy": "2022-10-11T07:58:31.470726Z",
     "iopub.status.idle": "2022-10-11T07:58:31.612997Z",
     "shell.execute_reply": "2022-10-11T07:58:31.612127Z"
    },
    "papermill": {
     "duration": 0.158389,
     "end_time": "2022-10-11T07:58:31.615184",
     "exception": false,
     "start_time": "2022-10-11T07:58:31.456795",
     "status": "completed"
    },
    "tags": []
   },
   "outputs": [],
   "source": [
    "random_forest_e = RandomForestClassifier(n_estimators = 100,criterion='entropy', random_state = 47)\n",
    "random_forest_e.fit(x_train_scaled, y_train)\n",
    "y_predict_r = random_forest_e.predict(x_test_scaled)"
   ]
  },
  {
   "cell_type": "markdown",
   "id": "1d78bce0",
   "metadata": {
    "papermill": {
     "duration": 0.013464,
     "end_time": "2022-10-11T07:58:31.642088",
     "exception": false,
     "start_time": "2022-10-11T07:58:31.628624",
     "status": "completed"
    },
    "tags": []
   },
   "source": [
    "## Cross Validation"
   ]
  },
  {
   "cell_type": "code",
   "execution_count": 25,
   "id": "986a1f11",
   "metadata": {
    "execution": {
     "iopub.execute_input": "2022-10-11T07:58:31.670075Z",
     "iopub.status.busy": "2022-10-11T07:58:31.669731Z",
     "iopub.status.idle": "2022-10-11T07:58:33.027262Z",
     "shell.execute_reply": "2022-10-11T07:58:33.026326Z"
    },
    "papermill": {
     "duration": 1.373467,
     "end_time": "2022-10-11T07:58:33.029073",
     "exception": false,
     "start_time": "2022-10-11T07:58:31.655606",
     "status": "completed"
    },
    "tags": []
   },
   "outputs": [
    {
     "data": {
      "text/plain": [
       "0.9983870967741936"
      ]
     },
     "execution_count": 25,
     "metadata": {},
     "output_type": "execute_result"
    }
   ],
   "source": [
    "acc_ran = cross_val_score(estimator = random_forest_e, X = x_train_scaled, y = y_train, cv = kfold, scoring=scoring)\n",
    "acc_ran.mean()"
   ]
  },
  {
   "cell_type": "markdown",
   "id": "e4e7a4ef",
   "metadata": {
    "papermill": {
     "duration": 0.012628,
     "end_time": "2022-10-11T07:58:33.055026",
     "exception": false,
     "start_time": "2022-10-11T07:58:33.042398",
     "status": "completed"
    },
    "tags": []
   },
   "source": [
    "## Model evaluation"
   ]
  },
  {
   "cell_type": "code",
   "execution_count": 26,
   "id": "720474a5",
   "metadata": {
    "execution": {
     "iopub.execute_input": "2022-10-11T07:58:33.081982Z",
     "iopub.status.busy": "2022-10-11T07:58:33.081657Z",
     "iopub.status.idle": "2022-10-11T07:58:33.112517Z",
     "shell.execute_reply": "2022-10-11T07:58:33.111816Z"
    },
    "papermill": {
     "duration": 0.046328,
     "end_time": "2022-10-11T07:58:33.114155",
     "exception": false,
     "start_time": "2022-10-11T07:58:33.067827",
     "status": "completed"
    },
    "tags": []
   },
   "outputs": [
    {
     "data": {
      "text/html": [
       "<div>\n",
       "<style scoped>\n",
       "    .dataframe tbody tr th:only-of-type {\n",
       "        vertical-align: middle;\n",
       "    }\n",
       "\n",
       "    .dataframe tbody tr th {\n",
       "        vertical-align: top;\n",
       "    }\n",
       "\n",
       "    .dataframe thead th {\n",
       "        text-align: right;\n",
       "    }\n",
       "</style>\n",
       "<table border=\"1\" class=\"dataframe\">\n",
       "  <thead>\n",
       "    <tr style=\"text-align: right;\">\n",
       "      <th></th>\n",
       "      <th>Model</th>\n",
       "      <th>Accuracy</th>\n",
       "      <th>Cross Val Accuracy</th>\n",
       "      <th>Precision</th>\n",
       "      <th>Recall</th>\n",
       "      <th>F1 Score</th>\n",
       "      <th>ROC</th>\n",
       "      <th>F1 score</th>\n",
       "    </tr>\n",
       "  </thead>\n",
       "  <tbody>\n",
       "    <tr>\n",
       "      <th>0</th>\n",
       "      <td>Logistic Regression</td>\n",
       "      <td>0.99359</td>\n",
       "      <td>0.977419</td>\n",
       "      <td>1.0</td>\n",
       "      <td>0.983607</td>\n",
       "      <td>0.991736</td>\n",
       "      <td>0.991803</td>\n",
       "      <td>NaN</td>\n",
       "    </tr>\n",
       "    <tr>\n",
       "      <th>1</th>\n",
       "      <td>Random Forest</td>\n",
       "      <td>1.00000</td>\n",
       "      <td>0.998387</td>\n",
       "      <td>1.0</td>\n",
       "      <td>1.000000</td>\n",
       "      <td>NaN</td>\n",
       "      <td>1.000000</td>\n",
       "      <td>1.0</td>\n",
       "    </tr>\n",
       "  </tbody>\n",
       "</table>\n",
       "</div>"
      ],
      "text/plain": [
       "                 Model  Accuracy  Cross Val Accuracy  Precision    Recall  \\\n",
       "0  Logistic Regression   0.99359            0.977419        1.0  0.983607   \n",
       "1        Random Forest   1.00000            0.998387        1.0  1.000000   \n",
       "\n",
       "   F1 Score       ROC  F1 score  \n",
       "0  0.991736  0.991803       NaN  \n",
       "1       NaN  1.000000       1.0  "
      ]
     },
     "execution_count": 26,
     "metadata": {},
     "output_type": "execute_result"
    }
   ],
   "source": [
    "y_predict_r = random_forest_e.predict(x_test_scaled)\n",
    "roc=roc_auc_score(y_test, y_predict_r)\n",
    "acc = accuracy_score(y_test, y_predict_r)\n",
    "prec = precision_score(y_test, y_predict_r)\n",
    "rec = recall_score(y_test, y_predict_r)\n",
    "f1 = f1_score(y_test, y_predict_r)\n",
    "\n",
    "model_results = pd.DataFrame([['Random Forest',acc, acc_ran.mean(),prec,rec, f1,roc]],\n",
    "               columns = ['Model', 'Accuracy','Cross Val Accuracy', 'Precision', 'Recall', 'F1 score','ROC'])\n",
    "results = results.append(model_results, ignore_index = True)\n",
    "results"
   ]
  },
  {
   "cell_type": "code",
   "execution_count": 27,
   "id": "7f77050f",
   "metadata": {
    "execution": {
     "iopub.execute_input": "2022-10-11T07:58:33.141525Z",
     "iopub.status.busy": "2022-10-11T07:58:33.140929Z",
     "iopub.status.idle": "2022-10-11T07:58:33.231794Z",
     "shell.execute_reply": "2022-10-11T07:58:33.231083Z"
    },
    "papermill": {
     "duration": 0.106539,
     "end_time": "2022-10-11T07:58:33.233764",
     "exception": false,
     "start_time": "2022-10-11T07:58:33.127225",
     "status": "completed"
    },
    "tags": []
   },
   "outputs": [
    {
     "data": {
      "text/plain": [
       "Text(0.5, 1.0, 'Confusion matrix of the Random Forest classifier')"
      ]
     },
     "execution_count": 27,
     "metadata": {},
     "output_type": "execute_result"
    },
    {
     "data": {
      "image/png": "[encoded data removed]",
      "text/plain": [
       "<Figure size 432x288 with 1 Axes>"
      ]
     },
     "metadata": {
      "needs_background": "light"
     },
     "output_type": "display_data"
    }
   ],
   "source": [
    "mat = confusion_matrix(y_test, y_predict_r)\n",
    "sns.heatmap(mat, square=True, annot=True, cbar=False)\n",
    "plt.xlabel('predicted value')\n",
    "plt.ylabel('true value')\n",
    "plt.title('Confusion matrix of the Random Forest classifier')"
   ]
  },
  {
   "cell_type": "code",
   "execution_count": null,
   "id": "f2c4ac9c",
   "metadata": {
    "papermill": {
     "duration": 0.017877,
     "end_time": "2022-10-11T07:58:33.270132",
     "exception": false,
     "start_time": "2022-10-11T07:58:33.252255",
     "status": "completed"
    },
    "tags": []
   },
   "outputs": [],
   "source": []
  },
  {
   "cell_type": "code",
   "execution_count": null,
   "id": "3af76496",
   "metadata": {
    "papermill": {
     "duration": 0.013087,
     "end_time": "2022-10-11T07:58:33.298149",
     "exception": false,
     "start_time": "2022-10-11T07:58:33.285062",
     "status": "completed"
    },
    "tags": []
   },
   "outputs": [],
   "source": []
  },
  {
   "cell_type": "code",
   "execution_count": null,
   "id": "93cbd2fd",
   "metadata": {
    "papermill": {
     "duration": 0.012896,
     "end_time": "2022-10-11T07:58:33.324506",
     "exception": false,
     "start_time": "2022-10-11T07:58:33.311610",
     "status": "completed"
    },
    "tags": []
   },
   "outputs": [],
   "source": []
  }
 ],
 "metadata": {
  "kernelspec": {
   "display_name": "Python 3",
   "language": "python",
   "name": "python3"
  },
  "language_info": {
   "codemirror_mode": {
    "name": "ipython",
    "version": 3
   },
   "file_extension": ".py",
   "mimetype": "text/x-python",
   "name": "python",
   "nbconvert_exporter": "python",
   "pygments_lexer": "ipython3",
   "version": "3.7.12"
  },
  "papermill": {
   "default_parameters": {},
   "duration": 14.297821,
   "end_time": "2022-10-11T07:58:33.956737",
   "environment_variables": {},
   "exception": null,
   "input_path": "__notebook__.ipynb",
   "output_path": "__notebook__.ipynb",
   "parameters": {},
   "start_time": "2022-10-11T07:58:19.658916",
   "version": "2.3.4"
  }
 },
 "nbformat": 4,
 "nbformat_minor": 5
}
